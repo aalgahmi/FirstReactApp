{
  "cells": [
    {
      "cell_type": "markdown",
      "metadata": {
        "id": "9ooJsbqknlqc"
      },
      "source": [
        "<a target=\"_blank\" href=\"https://colab.research.google.com/github/WSU-CS1410-AA/cs1410-notebooks/blob/main/Notebook01-basics.ipynb\">\n",
        "  <img src=\"https://colab.research.google.com/assets/colab-badge.svg\" alt=\"Open In Colab\"/>\n",
        "</a>"
      ]
    },
    {
      "cell_type": "markdown",
      "metadata": {
        "id": "M62sfScznlqh"
      },
      "source": [
        "# Introduction\n",
        "A *program* is a recipe for solving a problem or producing an outcome. It contains a list of detailed instructions describing precisely what a computer does to achieve that desired solution or outcome. The art and science of writing computer programs is called *programming*.\n",
        "\n",
        "Because computers are machines made of electrical circuitry where only the binary choices of *on* and *off* ( 1 and 0) are recognizable (or have meaning), the programs, that computers are able to run, need to be in this binary format as well. A program written in such a format is said to be in *machine code*, and it can be run (or executed) directly by the computer.\n",
        "\n",
        "The fact that computers only understand machine code, however, presents a problem for *programmers* (the human beings writing programs) who find it extremely difficult and time-consuming to work at that binary level. To bridge this understanding gap, *programming languages* were created. They allow programmers to write programs in a format close to their natural language (mostly English) and provide tools such as *compilers* and *interpreters* to convert their high-level programs into the machine code that the computer understands and is able to run.\n",
        "\n",
        "```                                 \n",
        "                                    \n",
        "Ruby, Python, JavaScript, Scala     ▲       |\n",
        "                                    |       |\n",
        "                                    |       |\n",
        "                       Java, C#     |       |\n",
        "                                    |       |      \n",
        "                                    |       |     \n",
        "                            C++     |       |\n",
        "                              C     |       |\n",
        "                                    |       |     \n",
        "                                    |       |\n",
        "                       Assembly     |       |\n",
        "                                    |       |\n",
        "                   Machine code     |       ▼\n",
        "                   \n",
        "                                  Level   Speed\n",
        "\n",
        "```\n"
      ]
    },
    {
      "cell_type": "markdown",
      "metadata": {
        "id": "489Cu-XTnlqi"
      },
      "source": [
        "## Programming languages\n",
        "Many programming languages exist today and new ones are invented all the time. Some of these languages are low-level. Assembly is a low-level language with a linear one-to-one mapping between its instructions and their machine code counterparts. Low-level programming has the property of producing the fastest programs, but this gain in performance comes at the cost of its programming being difficult, time-consuming, and prone to errors. High-level languages such as C, C++, Java, C\\# Ruby, Python, JavaScript, and Scala, as the above figure shows, are easier to program but not as fast. Fortunately, programming using high-level languages is fast enough for most of what we need computers for.\n",
        "\n",
        "Using a high-level programming language has many advantages:\n",
        "\n",
        "* It hides the details of computer hardware that programmers do not need to know to create programs.; thus separating hardware (the physical machine with all of its parts and wirings) from software (the programs that run on it.)\n",
        "* It allows programmers to focus more on solving problems rather than formatting programs in machine code.\n",
        "* It makes programming a lot easier to learn.\n",
        "* It makes programs a lot easier to read and understand.\n",
        "\n",
        "Programming languages are classified, based on how often their programs are translated to machine code, into three camps:  compiled, interpreted, and both. A compiled language provides a special program called the *compiler* (thus the name *compiled*) to translate its programs into executable machine code. This translation happens only when the program is first written or when it changes. The generated machine code is used after that to run the program. Examples of compiled programming languages are C, C++, and Go.\n",
        "\n",
        "An interpreted language such as Python, Ruby, and JavaScript uses a program called the *interpreter* to run its programs. The interpreter translates the program to machine code every time it runs. The translation overhead makes interpreted programs slower than compiled ones.\n",
        "\n",
        "Yet some languages such as Java and C\\# are both compiled and interpreted. Their programs are first compiled to an intermediate binary form (bytecode for Java and intermediate language IL for C\\#). This compilation step happens only when the program is first written or when it changes. After that, the compiled intermediate binary form is interpreted every time these programs run.\n"
      ]
    },
    {
      "cell_type": "markdown",
      "metadata": {
        "id": "pBjzAlKznlqi"
      },
      "source": [
        "## Computers from a programmer's perspective\n",
        "\n",
        "```\n",
        "          +-----------+      +---------------------+      +------------+\n",
        " Keyboard |           |      |                     |      |            | Screen\n",
        "    Mouse |           |      |                     |      |            | Printer\n",
        "  Scanner |   Input   |----->|        Memory       |----->|   Output   | Speaker\n",
        "     File |           |      |                     |      |            | File\n",
        " Database |           |      |                     |      |            | Database\n",
        "          +-----------+      +---------------------+      +------------+\n",
        "                                 ▲             |   \n",
        "                                 |             |\n",
        "                                 |             |\n",
        "                                 |             ▼\n",
        "                             +---------------------+\n",
        "                             |                     |\n",
        "                             |                     |\n",
        "                             |   Processor (CPU)   |\n",
        "                             |                     |\n",
        "                             |                     |\n",
        "                             +---------------------+\n",
        "          \n",
        "```\n",
        "\n",
        "As a programmer, you need to have a sense of what a computer can and cannot do. The figure above depicts a simplified model of what a computer is from a programmer's perspective. It consists of four major components: processor, memory, input, and output. All the interactions between these components are initiated by the processor based on the program being executed. To execute a program, the computer does the following:\n",
        "\n",
        "* It loads the program from the file it is saved under into the code section of the memory.\n",
        "* It loads the program to the processor for execution.\n",
        "* It executes the program instructions one at a time in the order specified by the program.\n",
        "* When the program needs to load data from file or get an input via the keyboard, it instructs the relevant parts of the computer to read (or load) data from the input device into the data memory section; It later loads the newly read data into the processor for processing.\n",
        "* Similarly, when the program needs to write some output to a device such as a screen, a printer or even a file on the hard drive, the processor stores that information in memory first and instructs the relevant output device to pick the data from there.\n",
        "\n",
        "The figure above also gives a hint to what a program is: an ordered list of fully-detailed and precise instructions loaded into the memory and executed by the processor to produce the desired output based on the given input. The instructions that make up a program are called *statements* and are of the following kinds:\n",
        "\n",
        "* **Input:** Reads data from a keyboard, a file on the hard drive, or a URL on the web.\n",
        "* **Output:** Displays data on a screen, prints it, or writes it to a file.\n",
        "* **Arithmetics:** Add, subtract, multiply, divide, and compare.\n",
        "* **Conditional execution:** Executes an instruction or a set of instructions only when a certain condition is met.\n",
        "* **Repetitive execution:** Repeats executing an instruction or a set of instructions until a certain condition is met.\n",
        "* **Jumps:** Causes execution to jump from one part of the program to another.\n",
        "\n",
        "In other words, all computers do is perform mathematical and logical arithmetics, move things to/from the processor from/to the memory, jump from one program section to another, do certain things conditionally, and do other things repeatedly.\n",
        "\n",
        "It’s amazing how all the complex and powerful computer applications, that we currently use or can think of, can be stripped down to these six kinds of instructions/statements. This fact is not lost on programming languages; in their own ways, all programming languages support these basic kinds of instructions.\n",
        "\n",
        "It is important to understand here that there is no magic to computers or programming. There is only the human ingenuity, cleverness, and extremely creative engineering that solves the most complex problems using the above instruction kinds. In other words, a computer does not solve a problem, a programmer does by studying the problem, devising a solution, and coding that solution into a program that the computer can execute.\n",
        "\n",
        "The result of this realization is that the computer does exactly what you ask of it: no more and no less. It is as clever, as complex, or as simple as your program is. This is not to belittle what computers do but to stress the fact that anything a computer does is the result of an idea or a set of ideas thought of and reasoned thoroughly by a human and group of humans who took the time and effort to express these ideas in the programming form that computers understand.\n",
        "\n",
        "Having said that, it is truly amazing that an abstract idea expressed in a program can be brought to life or turned into reality by a computer. Perhaps that is the magic of computers: the idea-realizing machines."
      ]
    },
    {
      "cell_type": "markdown",
      "metadata": {
        "id": "o8mxJVhUnlqj"
      },
      "source": [
        "# C++ Programming Basics\n",
        "\n",
        "## The Hello World program\n",
        "Here is the simplest C++ program. It contains only one function named `main`. This function does only one thing: it prints the string \"Hello, World!\" to the screen.\n",
        "\n",
        "\n"
      ]
    },
    {
      "cell_type": "code",
      "execution_count": null,
      "metadata": {
        "colab": {
          "base_uri": "https://localhost:8080/"
        },
        "id": "i_gK37hon44q",
        "outputId": "e563f6a7-7166-4d79-ddf9-443c6d3b9f66"
      },
      "outputs": [
        {
          "name": "stdout",
          "output_type": "stream",
          "text": [
            "Overwriting ex01-hello.cpp\n"
          ]
        }
      ],
      "source": [
        "%%writefile ex01-hello.cpp\n",
        "\n",
        "#include <iostream>\n",
        "\n",
        "int main(){\n",
        "  std::cout << \"Hello, world!\" << std::endl;\n",
        "\n",
        "  return 0;\n",
        "}"
      ]
    },
    {
      "cell_type": "markdown",
      "metadata": {
        "id": "7oGqjFyFn3T1"
      },
      "source": [
        "Here, we used the `std::cout` along with the **insertion operator** `<<` to output text (strings and numbers) to the console. We also used `std::endl` to output a line break. To use `std::cout`, we must first include the `<iostream>` header file.\n",
        "\n",
        "Notice the semicolon `;` at the end of the statement which signals the end of that statement. In C++ semicolons at the end of statements are **required**, and forgetting semicolons is a COMMON error that beginner programmers do.\n",
        "\n",
        "<br>\n",
        "\n",
        "---\n",
        "\n",
        "**IMPORTANT NOTE ON HOW TO RUN C++ IN COLAB**:  \n",
        "The top line `%%writefile ex01-hello.cpp` is not part of the program itself. When this cell runs, `%%writefile` instructs Colab to save the content below the first line into a file with the specified name (`ex01-hello.cpp`).  \n",
        "\n",
        "To compile and test this program, we use the following commands, each preceded by the `!` symbol, which instructs Colab to execute them as shell commands.  \n"
      ]
    },
    {
      "cell_type": "code",
      "execution_count": null,
      "metadata": {
        "colab": {
          "base_uri": "https://localhost:8080/"
        },
        "id": "e97rIjxJqD6o",
        "outputId": "3f52c7e8-3a41-4665-c3cc-ff06c3bf8ef2"
      },
      "outputs": [
        {
          "name": "stdout",
          "output_type": "stream",
          "text": [
            "Hello, world!\n"
          ]
        }
      ],
      "source": [
        "!g++ -std=c++17 ex01-hello.cpp -o hello-01\n",
        "!./hello-01"
      ]
    },
    {
      "cell_type": "markdown",
      "metadata": {
        "id": "O8_WJbifra0v"
      },
      "source": [
        "Notice the output of the program displayed underneath the cell above when it is run.  \n",
        "\n",
        "The `g++` command compiles the `ex01-hello.cpp` file into an executable program named as specified after the `-o` flag. The `-std=` flag instructs the compiler to use the 2017 version (standard) of C++. Other values include `c++11`, `c++14`, and `c++20`.  \n",
        "\n",
        "The final `./hello-01` command runs the newly created program.  \n",
        "\n",
        "This pattern of using `%%writefile` and commands preceded by `!` will repeat throughout the notebooks whenever we write, compile, and run C++ programs in Colab.  \n",
        "\n",
        "---\n",
        "<br>"
      ]
    },
    {
      "cell_type": "markdown",
      "metadata": {
        "id": "q0aRQ5Mrnlql"
      },
      "source": [
        "\n",
        "## C++ does not care about white spaces (space, tabs, and new lines)\n",
        "C++ does not care much for white space (spaces, tabs, and new lines). So the above statement would still work if was written as:"
      ]
    },
    {
      "cell_type": "code",
      "execution_count": null,
      "metadata": {
        "colab": {
          "base_uri": "https://localhost:8080/"
        },
        "id": "au9L-_xkvAIC",
        "outputId": "0a4b8ae6-93c9-4edf-85e6-490ed6f4cb50"
      },
      "outputs": [
        {
          "name": "stdout",
          "output_type": "stream",
          "text": [
            "Overwriting ex02-hello.cpp\n"
          ]
        }
      ],
      "source": [
        "%%writefile ex02-hello.cpp\n",
        "\n",
        "#include <iostream>\n",
        "\n",
        "int main(){\n",
        "  std ::  cout <<                \"Hello, world!\" <<\n",
        "    std   ::   endl;\n",
        "\n",
        "  return 0;\n",
        "}"
      ]
    },
    {
      "cell_type": "code",
      "execution_count": null,
      "metadata": {
        "colab": {
          "base_uri": "https://localhost:8080/"
        },
        "id": "i5lPFjkDnlql",
        "outputId": "1df87f7a-bab4-47bd-9370-b500d8179a42"
      },
      "outputs": [
        {
          "name": "stdout",
          "output_type": "stream",
          "text": [
            "Hello, world!\n"
          ]
        }
      ],
      "source": [
        "!g++ -std=c++17 ex02-hello.cpp -o hello-02\n",
        "!./hello-02"
      ]
    },
    {
      "cell_type": "markdown",
      "metadata": {
        "id": "zgZF8EK0nlql"
      },
      "source": [
        "However, spaces cannot break operators like `::` and `<<` or keywords like `int` or `while`. Doing so will result in errors.\n",
        "\n",
        "## CODING CHALLENGE 1\n",
        "\n",
        "The program below has spacing errors. Fix them, them compile and run the program."
      ]
    },
    {
      "cell_type": "code",
      "execution_count": null,
      "metadata": {
        "colab": {
          "base_uri": "https://localhost:8080/"
        },
        "id": "3UGDkizCx8vY",
        "outputId": "4ac66393-3c83-4ea4-924f-eaf80df1ffa3"
      },
      "outputs": [
        {
          "name": "stdout",
          "output_type": "stream",
          "text": [
            "Overwriting ch01.cpp\n"
          ]
        }
      ],
      "source": [
        "%%writefile ch01.cpp\n",
        "#include <iostream>\n",
        "\n",
        "int main(){\n",
        "  std::cout < < \"Hello, world!\" <   < std: :endl;\n",
        "\n",
        "  return 0;\n",
        "}"
      ]
    },
    {
      "cell_type": "code",
      "execution_count": null,
      "metadata": {
        "colab": {
          "base_uri": "https://localhost:8080/"
        },
        "id": "RcogvuVinlqm",
        "outputId": "d5926148-e169-433e-c73a-660b444de005"
      },
      "outputs": [
        {
          "name": "stdout",
          "output_type": "stream",
          "text": [
            "Hello, world!\n"
          ]
        }
      ],
      "source": [
        "!g++ -std=c++17 ch01.cpp -o ch01\n",
        "!./ch01"
      ]
    },
    {
      "cell_type": "markdown",
      "metadata": {
        "id": "PJDV1Dx1nlqm"
      },
      "source": [
        "## Outputting new lines\n",
        "We can output new lines using both the manipulator `std::endl` or the character `'\\n'`."
      ]
    },
    {
      "cell_type": "code",
      "execution_count": null,
      "metadata": {
        "colab": {
          "base_uri": "https://localhost:8080/"
        },
        "id": "slg5EMV6nlqm",
        "outputId": "d1edeee8-44e7-43ef-8451-232d9e854cbb"
      },
      "outputs": [
        {
          "name": "stdout",
          "output_type": "stream",
          "text": [
            "Overwriting ex03-hello.cpp\n"
          ]
        }
      ],
      "source": [
        "%%writefile ex03-hello.cpp\n",
        "\n",
        "#include <iostream>\n",
        "\n",
        "int main(){\n",
        "  std::cout << \"Hello, world!\" << std::endl;\n",
        "  std::cout << \"Good\" << std::endl << \"morning!\" << std::endl;\n",
        "  std::cout << \"Welcome\\nto\\nC++!!!\";\n",
        "\n",
        "  return 0;\n",
        "}"
      ]
    },
    {
      "cell_type": "code",
      "execution_count": null,
      "metadata": {
        "colab": {
          "base_uri": "https://localhost:8080/"
        },
        "id": "TIyrnr_ly4ot",
        "outputId": "7288571e-88f0-4f47-f91d-b0de46800340"
      },
      "outputs": [
        {
          "name": "stdout",
          "output_type": "stream",
          "text": [
            "Hello, world!\n",
            "Good\n",
            "morning!\n",
            "Welcome\n",
            "to\n",
            "C++!!!"
          ]
        }
      ],
      "source": [
        "!g++ -std=c++17 ex03-hello.cpp -o hello-03\n",
        "!./hello-03"
      ]
    },
    {
      "cell_type": "markdown",
      "metadata": {
        "id": "0u0oKRFdnlqn"
      },
      "source": [
        "And we can chain as many output pieces to a single `std::cout` as possible. The statement below is equivalent to the the above three statements."
      ]
    },
    {
      "cell_type": "code",
      "execution_count": null,
      "metadata": {
        "colab": {
          "base_uri": "https://localhost:8080/"
        },
        "id": "tZmDlJRunlqn",
        "outputId": "90f493aa-3bd7-45b7-8aba-79e7968dc27e"
      },
      "outputs": [
        {
          "name": "stdout",
          "output_type": "stream",
          "text": [
            "Overwriting ex04-hello.cpp\n"
          ]
        }
      ],
      "source": [
        "%%writefile ex04-hello.cpp\n",
        "\n",
        "#include <iostream>\n",
        "\n",
        "int main(){\n",
        "  std::cout << \"Hello, world!\" << std::endl\n",
        "            << \"Good\" << std::endl << \"morning!\" << std::endl\n",
        "            << \"Welcome\\nto\\nC++!!!\";\n",
        "\n",
        "  return 0;\n",
        "}"
      ]
    },
    {
      "cell_type": "code",
      "execution_count": null,
      "metadata": {
        "colab": {
          "base_uri": "https://localhost:8080/"
        },
        "id": "KKZO9DMqzRWP",
        "outputId": "4faebc8d-1b60-4458-b1f1-7be566ddcfa4"
      },
      "outputs": [
        {
          "name": "stdout",
          "output_type": "stream",
          "text": [
            "Hello, world!\n",
            "Good\n",
            "morning!\n",
            "Welcome\n",
            "to\n",
            "C++!!!"
          ]
        }
      ],
      "source": [
        "!g++ -std=c++17 ex04-hello.cpp -o hello-04\n",
        "!./hello-04"
      ]
    },
    {
      "cell_type": "markdown",
      "metadata": {
        "id": "O_ZVMTxMnlqn"
      },
      "source": [
        "## CODING CHALLENGE 2\n",
        "Replace all the `std::endl` tokens with `'\\n'` in the program below. Compile and run the program."
      ]
    },
    {
      "cell_type": "code",
      "execution_count": null,
      "metadata": {
        "colab": {
          "base_uri": "https://localhost:8080/"
        },
        "id": "-J4lVHrw6Ys2",
        "outputId": "416ca068-5409-4df5-9805-4e65ff85b684"
      },
      "outputs": [
        {
          "name": "stdout",
          "output_type": "stream",
          "text": [
            "Overwriting ch02.cpp\n"
          ]
        }
      ],
      "source": [
        "%%writefile ch02.cpp\n",
        "\n",
        "#include <iostream>\n",
        "\n",
        "int main(){\n",
        "  std::cout << \"Hello, world!\" << std::endl\n",
        "            << \"Good\" << std::endl << \"morning!\" << std::endl\n",
        "            << \"Welcome\\nto\\nC++!!!\";\n",
        "\n",
        "  return 0;\n",
        "}"
      ]
    },
    {
      "cell_type": "code",
      "execution_count": null,
      "metadata": {
        "colab": {
          "base_uri": "https://localhost:8080/"
        },
        "id": "klCpV7t1nlqn",
        "outputId": "c06a3239-2977-4b7e-d301-bab8238d3d75"
      },
      "outputs": [
        {
          "name": "stdout",
          "output_type": "stream",
          "text": [
            "Hello, world!\n",
            "Good\n",
            "morning!\n",
            "Welcome\n",
            "to\n",
            "C++!!!"
          ]
        }
      ],
      "source": [
        "!g++ -std=c++17 ch02.cpp -o ch02\n",
        "!./ch02"
      ]
    },
    {
      "cell_type": "markdown",
      "metadata": {
        "id": "P8Ea77Ylnlqo"
      },
      "source": [
        "## Using namespaces\n",
        "To avoid having to put `std::` in front of every `cout`, `endl`, and other functions from the standard C++ library, we could use the `using namespace std;` statement typically, but not necessarily, right after the include directives.\n",
        "\n",
        "```cpp\n",
        "#include <iostream>\n",
        "\n",
        "using namespace std;\n",
        "\n",
        "int main(){\n",
        "  cout << \"Hello, world!\\n\";\n",
        "\n",
        "  return 0;\n",
        "}\n",
        "```\n",
        "\n",
        "## CODING CHALLENGE 3\n",
        "\n",
        "Rewrite the program below so as to use the `using namespace std;` statement and remove all the the `std::` prefixes."
      ]
    },
    {
      "cell_type": "code",
      "execution_count": null,
      "metadata": {
        "colab": {
          "base_uri": "https://localhost:8080/"
        },
        "id": "YxGInUiR7WBI",
        "outputId": "176736db-e96b-47fd-8ff3-79dbbc686c87"
      },
      "outputs": [
        {
          "name": "stdout",
          "output_type": "stream",
          "text": [
            "Overwriting ch03.cpp\n"
          ]
        }
      ],
      "source": [
        "%%writefile ch03.cpp\n",
        "\n",
        "# include <iostream>\n",
        "\n",
        "int main(){\n",
        "  std::cout << \"Hello, world!\" << std::endl;\n",
        "  std::cout << \"Good\" << std::endl << \"morning!\" << std::endl;\n",
        "  std::cout << \"Welcome\\nto\\nC++!!!\";\n",
        "\n",
        "  return 0;\n",
        "}"
      ]
    },
    {
      "cell_type": "code",
      "execution_count": null,
      "metadata": {
        "colab": {
          "base_uri": "https://localhost:8080/"
        },
        "id": "cHccRiIznlqo",
        "outputId": "fe1136b9-29a6-49ff-c5aa-cecdb1224be9"
      },
      "outputs": [
        {
          "name": "stdout",
          "output_type": "stream",
          "text": [
            "Hello, world!\n",
            "Good\n",
            "morning!\n",
            "Welcome\n",
            "to\n",
            "C++!!!"
          ]
        }
      ],
      "source": [
        "!g++ -std=c++17 ch03.cpp -o ch03\n",
        "!./ch03"
      ]
    },
    {
      "cell_type": "markdown",
      "metadata": {
        "id": "Qw_SASsGnlqo"
      },
      "source": [
        "## Comments\n",
        "Comments are notes you leave in your programs to explain how they work or should be used to yourself or to anyone who reads your code. When the compiler sees these comments, it ignores them.\n",
        "\n",
        "C++ supports two kinds of comments:\n",
        "* Single line comments which start with two forward slashes `//` until end of line\n",
        "```cpp\n",
        "// single line comment; until end of line.\n",
        "```\n",
        "* multi-line comments which start with forward slash star `/*` and ends with star forward slash `*/`.\n",
        "```cpp\n",
        " /*\n",
        "  multi-line comment; spans\n",
        "  one\n",
        "  or\n",
        "  more\n",
        "  lines.\n",
        " */\n",
        "```"
      ]
    },
    {
      "cell_type": "markdown",
      "metadata": {
        "id": "3uPQzJL_nlqp"
      },
      "source": [
        "## Data types\n",
        "C++ programs work with data of many types. The most common data types are :\n",
        "* Integers like 1, 5, 10, -16: we use the keyword `int` to define integers.\n",
        "* Decimals such as .2, 5.3, 3.2: we use the keyword `double` to define double-precision decimals and the keyword `float` to define single-precision decimals. Use `double` for decimals unless you are told otherwise.\n",
        "* Characters: which are single letters or symbols written between single quotes, such as the letter `'A'`, the digit `'8'`, the symbol `'@'` the line break character `'\\n'`, the tab character `'\\t'`. We use the keyword `char` to define single characters.\n",
        "* Booleans which are either `true` or `false`. We use the keyword `bool` to define booleans.\n",
        "* Strings which are one or more characters between double quotes such as the `\"hello world\"` text or the name `\"Sam\"`. We use the class `string` to define strings, which requires including the `<string>` header file.\n",
        "\n",
        "We must use these data types to define variables.\n",
        "\n",
        "To define a variable, we start with the data type of the variable followed by its name:\n",
        "\n",
        "```cpp\n",
        "  <data-type> <variable-name>;\n",
        "```\n",
        "\n",
        "Optionally we can initialize the variable at the time of its creation by providing an initial value in two ways:\n",
        "\n",
        "\n",
        "```cpp\n",
        "  <data-type> <variable-name> = <initial-value>;\n",
        "```\n",
        "\n",
        "or\n",
        "\n",
        "```cpp\n",
        "  <data-type> <variable-name> { <initial-value> };\n",
        "```\n",
        "\n",
        "\n",
        "Below are example variable definitions: some are initialized; others are not."
      ]
    },
    {
      "cell_type": "code",
      "execution_count": null,
      "metadata": {
        "colab": {
          "base_uri": "https://localhost:8080/"
        },
        "id": "kLbAj36Ynlqp",
        "outputId": "7a61e7f9-2dcb-4a3b-bcc9-c1b325a59a4a"
      },
      "outputs": [
        {
          "name": "stdout",
          "output_type": "stream",
          "text": [
            "Overwriting ex05-vars.cpp\n"
          ]
        }
      ],
      "source": [
        "%%writefile ex05-vars.cpp\n",
        "\n",
        "#include <iostream>\n",
        "#include <string> // For the string variables\n",
        "\n",
        "using namespace std;\n",
        "\n",
        "int main(){\n",
        "  int number;\n",
        "  double pi = 3.14;\n",
        "  char letter;\n",
        "  bool active = true;\n",
        "  float half { 0.5f }; // the f in 0.5f is for float\n",
        "  string message = \"Good morning!\";\n",
        "  char vowel { 'i' };\n",
        "  bool married { false };\n",
        "\n",
        "  return 0;\n",
        "}"
      ]
    },
    {
      "cell_type": "code",
      "execution_count": null,
      "metadata": {
        "id": "xvCpEMyo9dHb"
      },
      "outputs": [],
      "source": [
        "!g++ -std=c++17 ex05-vars.cpp -o vars\n",
        "!./vars"
      ]
    },
    {
      "cell_type": "markdown",
      "metadata": {
        "id": "Dh-L5izPnlqp"
      },
      "source": [
        "As the examples above show, variable names must be valid **C++ identifiers**. That means they:\n",
        "* can only contain letters, digits, and underscores,\n",
        "* cannot start with a digit, and\n",
        "* cannot be a C++ keyword.\n",
        "\n",
        "And you must always remember that:\n",
        "* **a variable must be defined before it can be used**\n",
        "* **it can only be defined once**.\n",
        "\n",
        "Try running the code cell above again. Do you see the error?\n",
        "\n",
        "## CODING CHALLENGE 4\n",
        "Define eight more new variables in the code cell bellow."
      ]
    },
    {
      "cell_type": "code",
      "execution_count": null,
      "metadata": {
        "colab": {
          "base_uri": "https://localhost:8080/"
        },
        "id": "03M15qt6nlqp",
        "outputId": "ce9f54d2-31d6-4233-ab25-40cdd65f2f2c"
      },
      "outputs": [
        {
          "name": "stdout",
          "output_type": "stream",
          "text": [
            "Overwriting ch04.cpp\n"
          ]
        }
      ],
      "source": [
        "%%writefile ch04.cpp\n",
        "\n",
        "#include <iostream>\n",
        "#include <string>\n",
        "\n",
        "using namespace std;\n",
        "\n",
        "int main(){\n",
        "  int number;\n",
        "  double pi = 3.14;\n",
        "  char letter;\n",
        "  bool active = true;\n",
        "  float half { 0.5f }; // the f in 0.5f is for float\n",
        "  string message = \"Good morning!\";\n",
        "  char vowel { 'i' };\n",
        "  bool married { false };\n",
        "\n",
        "  // TODO: Define eight more variables with different data types\n",
        "\n",
        "  return 0;\n",
        "}"
      ]
    },
    {
      "cell_type": "code",
      "execution_count": null,
      "metadata": {
        "id": "FlpRzRCu902t"
      },
      "outputs": [],
      "source": [
        "!g++ -std=c++17 ch04.cpp -o ch04\n",
        "!./ch04"
      ]
    },
    {
      "cell_type": "markdown",
      "metadata": {
        "id": "T4VJDn0_nlqp"
      },
      "source": [
        "## Reading input from the console\n",
        "\n",
        "And just like we used `cout` with the **insertion** `<<` operator to output to the console, we can use `cin` to read input data from the keyboard. To do that, we must first define a variable with the same data type as the input value.\n",
        "\n",
        "Here is an example of reading two integer values. Run it and enter two integers."
      ]
    },
    {
      "cell_type": "code",
      "execution_count": null,
      "metadata": {
        "colab": {
          "base_uri": "https://localhost:8080/"
        },
        "id": "wHBk8Z-pnlqq",
        "outputId": "0b78e7eb-7571-4d74-c501-41f2c3c08ce4"
      },
      "outputs": [
        {
          "name": "stdout",
          "output_type": "stream",
          "text": [
            "Overwriting ex06-input.cpp\n"
          ]
        }
      ],
      "source": [
        "%%writefile ex06-input.cpp\n",
        "\n",
        "#include <iostream>\n",
        "\n",
        "using namespace std;\n",
        "\n",
        "int main(){\n",
        "  int x, y;\n",
        "  cout << \"Enter two integers: \";\n",
        "  cin >> x >> y;\n",
        "\n",
        "  cout << x << '\\t' << y << endl;\n",
        "\n",
        "  return 0;\n",
        "}"
      ]
    },
    {
      "cell_type": "code",
      "execution_count": null,
      "metadata": {
        "colab": {
          "base_uri": "https://localhost:8080/"
        },
        "id": "oYqbt2S7-UCT",
        "outputId": "99497d7e-c7bc-4fc7-b218-040cd4370d34"
      },
      "outputs": [
        {
          "name": "stdout",
          "output_type": "stream",
          "text": [
            "Enter two integers: 12 17\n",
            "12\t17\n"
          ]
        }
      ],
      "source": [
        "!g++ -std=c++17 ex06-input.cpp -o input-01\n",
        "!./input-01"
      ]
    },
    {
      "cell_type": "markdown",
      "metadata": {
        "id": "SniCUMEwnlqq"
      },
      "source": [
        "Notice the use of:\n",
        "```cpp\n",
        "cout << x << '\\t' << y << endl;\n",
        "```\n",
        "\n",
        "for displaying the values you entered."
      ]
    },
    {
      "cell_type": "markdown",
      "metadata": {
        "id": "WMqjmZxKnlqr"
      },
      "source": [
        "Similarly to receive `double` input, we define a `double` variable. And we then take the entered fahrenheit temperature and convert it into celsius using the formula:\n",
        "\n",
        "$C = (F - 32) \\times \\frac{5}{9}$"
      ]
    },
    {
      "cell_type": "code",
      "execution_count": null,
      "metadata": {
        "colab": {
          "base_uri": "https://localhost:8080/"
        },
        "id": "uS_7l8X9nlqr",
        "outputId": "f0d12c24-3850-4998-e66d-9a86b9da52a2"
      },
      "outputs": [
        {
          "name": "stdout",
          "output_type": "stream",
          "text": [
            "Overwriting ex07-temp.cpp\n"
          ]
        }
      ],
      "source": [
        "%%writefile ex07-temp.cpp\n",
        "\n",
        "#include <iostream>\n",
        "\n",
        "using namespace std;\n",
        "\n",
        "int main(){\n",
        "  double f_temp; // To be entered\n",
        "  double c_temp; // To be calculated\n",
        "\n",
        "  // Input\n",
        "  cout << \"Temperature in fahrenheit:\\n\";\n",
        "  cin >> f_temp;\n",
        "\n",
        "  // Output\n",
        "  c_temp = (f_temp - 32) * 5.0 / 9.0;\n",
        "  cout << \"Temperature in Celsius is: \" << c_temp << '\\n';\n",
        "\n",
        "  return 0;\n",
        "}"
      ]
    },
    {
      "cell_type": "code",
      "execution_count": null,
      "metadata": {
        "colab": {
          "base_uri": "https://localhost:8080/"
        },
        "id": "w_YG12gk8_qx",
        "outputId": "1870d81c-d5d0-45cc-bed9-fff21f7beaac"
      },
      "outputs": [
        {
          "name": "stdout",
          "output_type": "stream",
          "text": [
            "Temperature in fahrenheit:\n",
            "97\n",
            "Temperature in Celsius is: 36.1111\n"
          ]
        }
      ],
      "source": [
        "!g++ -std=c++17 ex07-temp.cpp -o temp\n",
        "!./temp"
      ]
    },
    {
      "cell_type": "markdown",
      "metadata": {
        "id": "1bup5rrnnlqs"
      },
      "source": [
        "## CODING CHALLENGE 5\n",
        "Finish, compile and run the program below. It should prompt the user to enter the radius of a circle and read it into a `double` variable named `radius`. Calculate and display the area of a circle with that radius."
      ]
    },
    {
      "cell_type": "code",
      "execution_count": null,
      "metadata": {
        "colab": {
          "base_uri": "https://localhost:8080/"
        },
        "id": "sin3SHDInlqs",
        "outputId": "cc6d34a3-ea1f-48ff-9d44-c8581bc07124"
      },
      "outputs": [
        {
          "name": "stdout",
          "output_type": "stream",
          "text": [
            "Overwriting ch05.cpp\n"
          ]
        }
      ],
      "source": [
        "%%writefile ch05.cpp\n",
        "\n",
        "#include <iostream>\n",
        "\n",
        "using namespace std;\n",
        "\n",
        "int main(){\n",
        "  const double PI = 3.14159;\n",
        "\n",
        "  // TODO\n",
        "\n",
        "  return 0;\n",
        "}"
      ]
    },
    {
      "cell_type": "code",
      "execution_count": null,
      "metadata": {
        "id": "kH6mgEo_95AT"
      },
      "outputs": [],
      "source": [
        "!g++ -std=c++17 ch05.cpp -o ch05\n",
        "!./ch05"
      ]
    },
    {
      "cell_type": "markdown",
      "metadata": {
        "id": "9sqe3YWNnlqt"
      },
      "source": [
        "In the challenge above, we needed the value of $\\pi$ (`PI`) which is a constant whose value is 3.14159. And by convention, constants' names are ALL CAPS."
      ]
    },
    {
      "cell_type": "markdown",
      "metadata": {
        "id": "gd1Abxbxnlqt"
      },
      "source": [
        "## Arithmetic operators\n",
        "C++ supports multiple arithmetic operators( +, -, \\*, /) representing addition, subtraction, multiplication, and division respectively. We use these operators to create expressions like:"
      ]
    },
    {
      "cell_type": "code",
      "execution_count": null,
      "metadata": {
        "colab": {
          "base_uri": "https://localhost:8080/"
        },
        "id": "23ULUVpynlqt",
        "outputId": "457dff10-527d-4fc8-cb3f-bb9e06bd883b"
      },
      "outputs": [
        {
          "name": "stdout",
          "output_type": "stream",
          "text": [
            "Overwriting ex08-arithmetic.cpp\n"
          ]
        }
      ],
      "source": [
        "%%writefile ex08-arithmetic.cpp\n",
        "\n",
        "#include <iostream>\n",
        "\n",
        "using namespace std;\n",
        "\n",
        "int main(){\n",
        "  int x = 10;\n",
        "\n",
        "  cout << 6 + 7   << endl\n",
        "       << x - 5   << endl\n",
        "       << 4 * 3   << endl\n",
        "       << 7 / 2   << endl    // Integer division\n",
        "       << 7 % 2   << endl    // Remainder\n",
        "       << 7 / 2.0 << endl;\n",
        "\n",
        "  return 0;\n",
        "}"
      ]
    },
    {
      "cell_type": "code",
      "execution_count": null,
      "metadata": {
        "colab": {
          "base_uri": "https://localhost:8080/"
        },
        "id": "3pT9226F_EM5",
        "outputId": "c330b646-1073-4ae5-9a8e-27ba8c6278d5"
      },
      "outputs": [
        {
          "name": "stdout",
          "output_type": "stream",
          "text": [
            "13\n",
            "5\n",
            "12\n",
            "3\n",
            "1\n",
            "3.5\n"
          ]
        }
      ],
      "source": [
        "!g++ -std=c++17 ex08-arithmetic.cpp -o arithmetic\n",
        "!./arithmetic"
      ]
    },
    {
      "cell_type": "markdown",
      "metadata": {
        "id": "2u7jqcCWnlqt"
      },
      "source": [
        "## Relational operators\n",
        "C++ also support relational operators which are used to compare two values and see if one is >, <, >=, <=, == (equal to), and != (not equal to) the other. These operators return boolean values that evaluate to either `true` or `false`. For example `6 < 7` is true but `2 >= 7` is false.\n",
        "\n",
        "**Note**: We always use two equal signs `==` to check if one value is equal to another. One equal sign `=` means assignment, not equality.\n",
        "\n"
      ]
    },
    {
      "cell_type": "code",
      "execution_count": null,
      "metadata": {
        "colab": {
          "base_uri": "https://localhost:8080/"
        },
        "id": "BAZ9Ytoanlqt",
        "outputId": "224e1983-b45e-4e9f-fde9-d8416b65e56a"
      },
      "outputs": [
        {
          "name": "stdout",
          "output_type": "stream",
          "text": [
            "Overwriting ex09-relational.cpp\n"
          ]
        }
      ],
      "source": [
        "%%writefile ex09-relational.cpp\n",
        "\n",
        "#include <iostream>\n",
        "\n",
        "using namespace std;\n",
        "\n",
        "int main(){\n",
        "  cout << (6.5 < 7) << endl\n",
        "       << ('a' > 'z') << endl\n",
        "       << (4 >= 3) << endl\n",
        "       << (2 <= 7) << endl\n",
        "       << (9 == 9) << endl\n",
        "       << ('x' != 'X') << endl\n",
        "       << (7.1 == 2.0) << endl;\n",
        "\n",
        "  return 0;\n",
        "}"
      ]
    },
    {
      "cell_type": "code",
      "execution_count": null,
      "metadata": {
        "colab": {
          "base_uri": "https://localhost:8080/"
        },
        "id": "luHokZsn_FH0",
        "outputId": "f2d93892-28c2-40c3-ebc7-008721c88a5d"
      },
      "outputs": [
        {
          "name": "stdout",
          "output_type": "stream",
          "text": [
            "1\n",
            "0\n",
            "1\n",
            "1\n",
            "1\n",
            "1\n",
            "0\n"
          ]
        }
      ],
      "source": [
        "!g++ -std=c++17 ex09-relational.cpp -o relational\n",
        "!./relational"
      ]
    },
    {
      "cell_type": "markdown",
      "metadata": {
        "id": "aYJYhF44nlqu"
      },
      "source": [
        "Notice how `true` is printed as `1` and `false` as `0` by the `cout` output statement.\n",
        "\n",
        "## CODING CHALLENGE 6\n",
        "Change the program below such that all expressions become false and print `0` instead of `1`."
      ]
    },
    {
      "cell_type": "code",
      "execution_count": null,
      "metadata": {
        "colab": {
          "base_uri": "https://localhost:8080/"
        },
        "id": "EzisKpEAnlqu",
        "outputId": "68cc5401-d888-4dff-8811-eefc001cf6c3"
      },
      "outputs": [
        {
          "name": "stdout",
          "output_type": "stream",
          "text": [
            "Overwriting ch06.cpp\n"
          ]
        }
      ],
      "source": [
        "%%writefile ch06.cpp\n",
        "\n",
        "#include <iostream>\n",
        "\n",
        "using namespace std;\n",
        "\n",
        "int main(){\n",
        "  cout << (6 < 7) << endl\n",
        "       << (7 > 5) << endl\n",
        "       << (4 >= 3) << endl\n",
        "       << (2 <= 7) << endl\n",
        "       << ('C' == 'C') << endl\n",
        "       << (7.1 != 2.0) << endl;\n",
        "\n",
        "  return 0;\n",
        "}"
      ]
    },
    {
      "cell_type": "code",
      "execution_count": null,
      "metadata": {
        "colab": {
          "base_uri": "https://localhost:8080/"
        },
        "id": "UpOWJpoQ_Gi6",
        "outputId": "8150fb48-a567-4bf4-b762-c96923639d8e"
      },
      "outputs": [
        {
          "name": "stdout",
          "output_type": "stream",
          "text": [
            "1\n",
            "1\n",
            "1\n",
            "1\n",
            "1\n",
            "1\n"
          ]
        }
      ],
      "source": [
        "!g++ -std=c++17 ch06.cpp -o ch06\n",
        "!./ch06"
      ]
    },
    {
      "cell_type": "markdown",
      "metadata": {
        "id": "MCdhhLDrnlqu"
      },
      "source": [
        "## Logical operators\n",
        "C++ also allows us to combine multiple boolean expressions using the `&&` (AND) operator or the `||` (OR) operator, or negate a boolean expression using the `!` (NOT) operator. These are called logical operators and like relational operators, they evaluate to either `true` or `false`.\n",
        "\n",
        "Here’s is a truth table showing when the resutls of these operations are true and when they are false.\n",
        "\n",
        "| A   | B   | A AND B | A OR B  |\n",
        "| --- | --- | -------: | -------: |\n",
        "| True   | True   | True       | True       |\n",
        "| True   | False   | False       | True       |\n",
        "| False   | True   | False       | True       |\n",
        "| False   | False   | False       | False       |\n",
        "\n",
        "\n",
        "Here is an example"
      ]
    },
    {
      "cell_type": "code",
      "execution_count": null,
      "metadata": {
        "colab": {
          "base_uri": "https://localhost:8080/"
        },
        "id": "RnXZaS8dnlqu",
        "outputId": "fbbd2c18-dd6d-4b14-a892-f60fe0f71138"
      },
      "outputs": [
        {
          "name": "stdout",
          "output_type": "stream",
          "text": [
            "Overwriting ex10-logical.cpp\n"
          ]
        }
      ],
      "source": [
        "%%writefile ex10-logical.cpp\n",
        "\n",
        "#include <iostream>\n",
        "\n",
        "using namespace std;\n",
        "\n",
        "int main(){\n",
        "  int x = 16;\n",
        "\n",
        "  cout << (x < 7 || x > 5) << endl;\n",
        "  cout << (x != 5 && x != 7) << endl;\n",
        "  cout << !true << endl;\n",
        "  cout << !false << endl;\n",
        "  cout << !(!(true)) << endl;\n",
        "\n",
        "  return 0;\n",
        "}"
      ]
    },
    {
      "cell_type": "code",
      "execution_count": null,
      "metadata": {
        "colab": {
          "base_uri": "https://localhost:8080/"
        },
        "id": "E3nuThDo_Kp7",
        "outputId": "c996af4b-22a6-44f6-d020-281cc2662c69"
      },
      "outputs": [
        {
          "name": "stdout",
          "output_type": "stream",
          "text": [
            "1\n",
            "1\n",
            "0\n",
            "1\n",
            "1\n"
          ]
        }
      ],
      "source": [
        "!g++ -std=c++17 ex10-logical.cpp -o logical\n",
        "!./logical"
      ]
    },
    {
      "cell_type": "markdown",
      "metadata": {
        "id": "iD9dyvWunlqu"
      },
      "source": [
        "## Assignment operators\n",
        "We also have the assignment operators. In its simplest form, the single equal sign `=` is used to assign the value on the right hand side to the variable on the left hand side. And because assignments are full statements, they must have `;` at the end.\n",
        "\n",
        "For example:\n",
        "\n",
        "```cpp\n",
        "x = 14;\n",
        "y = y + x - 7;\n",
        "```"
      ]
    },
    {
      "cell_type": "markdown",
      "metadata": {
        "id": "fK7weu91nlqv"
      },
      "source": [
        "C++ also provides shorthand operators that combine arithmetic and assignment operations. These shorthands offer a concise way to update the value of a variable.\n",
        "* `+=` where `x += y;` is equivalent to\t`x = x + y;`.\n",
        "* `-=` where `x -= y;` is equivalent to\t`x = x - y;`.\n",
        "* `*=` where `x *= y;` is equivalent to\t`x = x * y;`.\n",
        "* `/=` where `x /= y;` is equivalent to\t`x = x / y;`.\n",
        "* `%=` where `x %= y;` is equivalent to\t`x = x % y;`.\n",
        "\n",
        "\n",
        "## CODING CHALLENGE 7\n",
        "Replace all the shorthand arithmetic assignments in the program below with their equivalent simple assignment alternatives. For example, `ans +=10;` should be replaced with `ans = ans + 10;`"
      ]
    },
    {
      "cell_type": "code",
      "execution_count": null,
      "metadata": {
        "colab": {
          "base_uri": "https://localhost:8080/"
        },
        "id": "AQoXL12_nlqv",
        "outputId": "824d5a4a-ae94-4993-ada2-32e0bdf33e69"
      },
      "outputs": [
        {
          "name": "stdout",
          "output_type": "stream",
          "text": [
            "Overwriting ch07.cpp\n"
          ]
        }
      ],
      "source": [
        "%%writefile ch07.cpp\n",
        "\n",
        "#include <iostream>\n",
        "\n",
        "using namespace std;\n",
        "\n",
        "int main(){\n",
        "  // TODO\n",
        "  int ans = 27;\n",
        "\n",
        "  ans += 10;\n",
        "  cout << ans << \", \";\n",
        "  ans -= 7;\n",
        "  cout << ans << \", \";\n",
        "  ans *= 2;\n",
        "  cout << ans << \", \";\n",
        "  ans /= 3;\n",
        "  cout << ans << \", \";\n",
        "  ans %= 3;\n",
        "  cout << ans << endl;\n",
        "\n",
        "  return 0;\n",
        "}"
      ]
    },
    {
      "cell_type": "code",
      "execution_count": null,
      "metadata": {
        "colab": {
          "base_uri": "https://localhost:8080/"
        },
        "id": "x15oQc1G_Lzp",
        "outputId": "980646f9-bc7d-4439-e05b-5de9e55114d3"
      },
      "outputs": [
        {
          "name": "stdout",
          "output_type": "stream",
          "text": [
            "37, 30, 60, 20, 2\n"
          ]
        }
      ],
      "source": [
        "!g++ -std=c++17 ch07.cpp -o ch07\n",
        "!./ch07"
      ]
    },
    {
      "cell_type": "markdown",
      "metadata": {
        "id": "8gYVjuD2nlqv"
      },
      "source": [
        "## Increment/Decrement by one operators\n",
        "Finally, C++ supports the increment `++` and the decrement `--` operators. These operators increments or decrements the value of their variables by one. For example `x++` is the same as incrementing the value of `x` by `1` and similarly `x--` is like decrementing `x` by `1`. The same goes for `++x` and `--x`.\n",
        "\n",
        "But one must understand the difference between `++x` and `x++`. `++x` is called **prefix increment** which means `x` is incremented at the beginning of the statement, while`x++` is called **postfix increment** meaning that `x` is incremented at the end of the statement.\n",
        "\n",
        "Here is an example. Notice specifically outout of the second and fourth `cout` statements. Change all `++` to `--` and run it again. Does the output make sense?"
      ]
    },
    {
      "cell_type": "code",
      "execution_count": null,
      "metadata": {
        "colab": {
          "base_uri": "https://localhost:8080/"
        },
        "id": "9Guy6gScnlqv",
        "outputId": "49e2f138-5679-4c7e-904e-222ad1ef8a22"
      },
      "outputs": [
        {
          "name": "stdout",
          "output_type": "stream",
          "text": [
            "Overwriting ex11-increment.cpp\n"
          ]
        }
      ],
      "source": [
        "%%writefile ex11-increment.cpp\n",
        "\n",
        "#include <iostream>\n",
        "\n",
        "using namespace std;\n",
        "\n",
        "int main(){\n",
        "\n",
        "  //TODO\n",
        "  int count = 10;\n",
        "\n",
        "  cout << \"count=\" << count << endl;\n",
        "  cout << \"count=\" << ++count << endl;\n",
        "  cout << \"count=\" << count << endl;\n",
        "  cout << \"count=\" << count++ << endl;\n",
        "  cout << \"count=\" << count << endl;\n",
        "\n",
        "  return 0;\n",
        "}"
      ]
    },
    {
      "cell_type": "code",
      "execution_count": null,
      "metadata": {
        "colab": {
          "base_uri": "https://localhost:8080/"
        },
        "id": "ZyhpmolO_NDI",
        "outputId": "ebcc8fb0-29fa-49a4-e649-02db6115efba"
      },
      "outputs": [
        {
          "name": "stdout",
          "output_type": "stream",
          "text": [
            "count=10\n",
            "count=11\n",
            "count=11\n",
            "count=11\n",
            "count=12\n"
          ]
        }
      ],
      "source": [
        "!g++ -std=c++17 ex11-increment.cpp -o increment\n",
        "!./increment"
      ]
    }
  ],
  "metadata": {
    "colab": {
      "provenance": [],
      "toc_visible": true
    },
    "kernelspec": {
      "display_name": "Python 3",
      "name": "python3"
    },
    "language_info": {
      "name": "python"
    }
  },
  "nbformat": 4,
  "nbformat_minor": 0
}